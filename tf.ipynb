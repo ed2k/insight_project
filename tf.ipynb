{
 "cells": [
  {
   "cell_type": "code",
   "execution_count": 4,
   "metadata": {},
   "outputs": [],
   "source": "import tensorflow as tf\n\nfrom tensorflow.keras.layers import Dense, Flatten, Conv2D\nfrom tensorflow.keras import Model"
  },
  {
   "cell_type": "code",
   "execution_count": 5,
   "metadata": {},
   "outputs": [
    {
     "name": "stdout",
     "output_type": "stream",
     "text": "Downloading data from https://storage.googleapis.com/tensorflow/tf-keras-datasets/mnist.npz\n11493376/11490434 [==============================] - 1s 0us/step\n11501568/11490434 [==============================] - 1s 0us/step\n"
    }
   ],
   "source": "mnist = tf.keras.datasets.mnist\n\n(x_train, y_train), (x_test, y_test) = mnist.load_data()\nx_train, x_test = x_train / 255.0, x_test / 255.0\n\n# Add a channels dimension\nx_train = x_train[..., tf.newaxis]\nx_test = x_test[..., tf.newaxis]"
  },
  {
   "cell_type": "code",
   "execution_count": 32,
   "metadata": {},
   "outputs": [
    {
     "name": "stdout",
     "output_type": "stream",
     "text": "((60000, 28, 28, 1), (60000,))\n"
    }
   ],
   "source": "print(x_train.shape, y_train.shape)"
  },
  {
   "cell_type": "code",
   "execution_count": 6,
   "metadata": {},
   "outputs": [],
   "source": "train_ds = tf.data.Dataset.from_tensor_slices(\n    (x_train, y_train)).shuffle(10000).batch(32)\n\ntest_ds = tf.data.Dataset.from_tensor_slices((x_test, y_test)).batch(32)"
  },
  {
   "cell_type": "code",
   "execution_count": 7,
   "metadata": {},
   "outputs": [],
   "source": "class MyModel(Model):\n  def __init__(self):\n    super(MyModel, self).__init__()\n    self.conv1 = Conv2D(32, 3, activation='relu')\n    self.flatten = Flatten()\n    self.d1 = Dense(128, activation='relu')\n    self.d2 = Dense(10)\n\n  def call(self, x):\n    x = self.conv1(x)\n    x = self.flatten(x)\n    x = self.d1(x)\n    return self.d2(x)\n\n# Create an instance of the model\nmodel = MyModel()"
  },
  {
   "cell_type": "code",
   "execution_count": 8,
   "metadata": {},
   "outputs": [],
   "source": "loss_object = tf.keras.losses.SparseCategoricalCrossentropy(from_logits=True)\n\noptimizer = tf.keras.optimizers.Adam()"
  },
  {
   "cell_type": "code",
   "execution_count": 12,
   "metadata": {},
   "outputs": [],
   "source": "train_loss = tf.keras.metrics.Mean(name='train_loss')\ntrain_accuracy = tf.keras.metrics.SparseCategoricalAccuracy(name='train_accuracy')\n\ntest_loss = tf.keras.metrics.Mean(name='test_loss')\ntest_accuracy = tf.keras.metrics.SparseCategoricalAccuracy(name='test_accuracy')"
  },
  {
   "cell_type": "code",
   "execution_count": 9,
   "metadata": {},
   "outputs": [],
   "source": "@tf.function\ndef train_step(images, labels):\n  with tf.GradientTape() as tape:\n    # training=True is only needed if there are layers with different\n    # behavior during training versus inference (e.g. Dropout).\n    predictions = model(images, training=True)\n    loss = loss_object(labels, predictions)\n  gradients = tape.gradient(loss, model.trainable_variables)\n  optimizer.apply_gradients(zip(gradients, model.trainable_variables))\n\n  train_loss(loss)\n  train_accuracy(labels, predictions)"
  },
  {
   "cell_type": "code",
   "execution_count": 10,
   "metadata": {},
   "outputs": [],
   "source": "@tf.function\ndef test_step(images, labels):\n  # training=False is only needed if there are layers with different\n  # behavior during training versus inference (e.g. Dropout).\n  predictions = model(images, training=False)\n  t_loss = loss_object(labels, predictions)\n\n  test_loss(t_loss)\n  test_accuracy(labels, predictions)"
  },
  {
   "cell_type": "code",
   "execution_count": 13,
   "metadata": {},
   "outputs": [
    {
     "name": "stdout",
     "output_type": "stream",
     "text": "WARNING:tensorflow:Layer my_model is casting an input tensor from dtype float64 to the layer's dtype of float32, which is new behavior in TensorFlow 2.  The layer has dtype float32 because it's dtype defaults to floatx.\n\nIf you intended to run this layer in float32, you can safely ignore this warning. If in doubt, this warning is likely only an issue if you are porting a TensorFlow 1.X model to TensorFlow 2.\n\nTo change all layers to have dtype float64 by default, call `tf.keras.backend.set_floatx('float64')`. To change just this layer, pass dtype='float64' to the layer constructor. If you are the author of this layer, you can disable autocasting by passing autocast=False to the base Layer constructor.\n\nEpoch 1, Loss: 0.134675204754, Accuracy: 95.9800033569, Test Loss: 0.0630413144827, Test Accuracy: 97.9499969482\nEpoch 2, Loss: 0.043342422694, Accuracy: 98.6199951172, Test Loss: 0.0614176504314, Test Accuracy: 97.9300003052\nEpoch 3, Loss: 0.0229823887348, Accuracy: 99.2383346558, Test Loss: 0.0537048242986, Test Accuracy: 98.3899993896\nEpoch 4, Loss: 0.014112142846, Accuracy: 99.5033340454, Test Loss: 0.0610818266869, Test Accuracy: 98.1599960327\nEpoch 5, Loss: 0.0096153896302, Accuracy: 99.6866607666, Test Loss: 0.0646394789219, Test Accuracy: 98.3399963379\n"
    }
   ],
   "source": "EPOCHS = 5\n\nfor epoch in range(EPOCHS):\n  # Reset the metrics at the start of the next epoch\n  train_loss.reset_states()\n  train_accuracy.reset_states()\n  test_loss.reset_states()\n  test_accuracy.reset_states()\n\n  for images, labels in train_ds:\n    train_step(images, labels)\n\n  for test_images, test_labels in test_ds:\n    test_step(test_images, test_labels)\n\n  template = 'Epoch {}, Loss: {}, Accuracy: {}, Test Loss: {}, Test Accuracy: {}'\n  print(template.format(epoch + 1,\n                        train_loss.result(),\n                        train_accuracy.result() * 100,\n                        test_loss.result(),\n                        test_accuracy.result() * 100))"
  },
  {
   "cell_type": "code",
   "execution_count": 14,
   "metadata": {},
   "outputs": [
    {
     "name": "stdout",
     "output_type": "stream",
     "text": "2.1.0\n"
    }
   ],
   "source": "# TensorFlow and tf.keras\nimport tensorflow as tf\nfrom tensorflow import keras\n\n# Helper libraries\nimport numpy as np\nimport matplotlib.pyplot as plt\n\nprint(tf.__version__)"
  },
  {
   "cell_type": "code",
   "execution_count": 15,
   "metadata": {
    "scrolled": true
   },
   "outputs": [
    {
     "name": "stdout",
     "output_type": "stream",
     "text": "Downloading data from https://storage.googleapis.com/tensorflow/tf-keras-datasets/train-labels-idx1-ubyte.gz\n32768/29515 [=================================] - 0s 0us/step\n40960/29515 [=========================================] - 0s 0us/step\nDownloading data from https://storage.googleapis.com/tensorflow/tf-keras-datasets/train-images-idx3-ubyte.gz\n26427392/26421880 [==============================] - 3s 0us/step\n26435584/26421880 [==============================] - 3s 0us/step\nDownloading data from https://storage.googleapis.com/tensorflow/tf-keras-datasets/t10k-labels-idx1-ubyte.gz\n16384/5148 [===============================================================================================] - 0s 0us/step\nDownloading data from https://storage.googleapis.com/tensorflow/tf-keras-datasets/t10k-images-idx3-ubyte.gz\n4423680/4422102 [==============================] - 1s 0us/step\n4431872/4422102 [==============================] - 1s 0us/step\n"
    }
   ],
   "source": "fashion_mnist = keras.datasets.fashion_mnist\n\n(train_images, train_labels), (test_images, test_labels) = fashion_mnist.load_data()"
  },
  {
   "cell_type": "code",
   "execution_count": 34,
   "metadata": {},
   "outputs": [
    {
     "name": "stdout",
     "output_type": "stream",
     "text": "((60000, 28, 28), (60000,))\n"
    }
   ],
   "source": "print(train_images.shape, train_labels.shape)"
  },
  {
   "cell_type": "code",
   "execution_count": 52,
   "metadata": {},
   "outputs": [],
   "source": "from tensorflow.keras.layers import Conv2D, DepthwiseConv2D, BatchNormalization, Flatten, Dense, Activation\ndef relu6(x):\n    return keras.backend.relu(x, max_value=6)\nmodel = keras.Sequential([\n    Conv2D(32, 3, activation='relu',input_shape=[28,28,1]),\n    DepthwiseConv2D(3, activation='relu'),\n    BatchNormalization(),\n    Activation(relu6),\n    Flatten(),\n    Dense(128, activation='relu'),\n    Dense(10)\n])"
  },
  {
   "cell_type": "code",
   "execution_count": 53,
   "metadata": {},
   "outputs": [],
   "source": "model.compile(optimizer='adam',\n              loss=tf.keras.losses.SparseCategoricalCrossentropy(from_logits=True),\n              metrics=['accuracy'])\nmodel.build()"
  },
  {
   "cell_type": "code",
   "execution_count": 54,
   "metadata": {
    "scrolled": true
   },
   "outputs": [
    {
     "name": "stdout",
     "output_type": "stream",
     "text": "Train on 60000 samples\nEpoch 1/10\n60000/60000 [==============================] - 15s 248us/sample - loss: 0.1024 - accuracy: 0.9685\nEpoch 2/10\n60000/60000 [==============================] - 15s 243us/sample - loss: 0.0350 - accuracy: 0.9888\nEpoch 3/10\n60000/60000 [==============================] - 15s 244us/sample - loss: 0.0204 - accuracy: 0.9934\nEpoch 4/10\n60000/60000 [==============================] - 15s 244us/sample - loss: 0.0137 - accuracy: 0.9954\nEpoch 5/10\n60000/60000 [==============================] - 15s 244us/sample - loss: 0.0107 - accuracy: 0.9966\nEpoch 6/10\n60000/60000 [==============================] - 15s 245us/sample - loss: 0.0071 - accuracy: 0.9978\nEpoch 7/10\n60000/60000 [==============================] - 15s 252us/sample - loss: 0.0080 - accuracy: 0.9975\nEpoch 8/10\n60000/60000 [==============================] - 15s 245us/sample - loss: 0.0072 - accuracy: 0.9978\nEpoch 9/10\n60000/60000 [==============================] - 14s 239us/sample - loss: 0.0057 - accuracy: 0.9985\nEpoch 10/10\n60000/60000 [==============================] - 14s 238us/sample - loss: 0.0057 - accuracy: 0.9984\n"
    },
    {
     "data": {
      "text/plain": "<tensorflow.python.keras.callbacks.History at 0x7f71901dbed0>"
     },
     "execution_count": 54,
     "metadata": {},
     "output_type": "execute_result"
    }
   ],
   "source": "model.fit(x_train, y_train, epochs=3)"
  },
  {
   "cell_type": "code",
   "execution_count": 55,
   "metadata": {},
   "outputs": [
    {
     "name": "stdout",
     "output_type": "stream",
     "text": "Model: \"sequential_11\"\n_________________________________________________________________\nLayer (type)                 Output Shape              Param #   \n=================================================================\nconv2d_12 (Conv2D)           (None, 26, 26, 32)        320       \n_________________________________________________________________\ndepthwise_conv2d_6 (Depthwis (None, 24, 24, 32)        320       \n_________________________________________________________________\nbatch_normalization_4 (Batch (None, 24, 24, 32)        128       \n_________________________________________________________________\nactivation_2 (Activation)    (None, 24, 24, 32)        0         \n_________________________________________________________________\nflatten_12 (Flatten)         (None, 18432)             0         \n_________________________________________________________________\ndense_24 (Dense)             (None, 128)               2359424   \n_________________________________________________________________\ndense_25 (Dense)             (None, 10)                1290      \n=================================================================\nTotal params: 2,361,482\nTrainable params: 2,361,418\nNon-trainable params: 64\n_________________________________________________________________\nNone\n"
    }
   ],
   "source": "print(model.summary())"
  },
  {
   "cell_type": "code",
   "execution_count": 62,
   "metadata": {},
   "outputs": [
    {
     "name": "stdout",
     "output_type": "stream",
     "text": "Size dataset: 2927\n"
    }
   ],
   "source": "import json\nwith open(\"/home/a/eg_dataset.json\", 'rb') as handle:\n    dataset = json.load(handle)\n    \n\ndataset_sz = len(dataset)\n\nprint(\"Size dataset: {}\".format(dataset_sz))"
  },
  {
   "cell_type": "code",
   "execution_count": 67,
   "metadata": {},
   "outputs": [
    {
     "data": {
      "image/png": "[encoded data removed]",
      "text/plain": "<Figure size 432x288 with 3 Axes>"
     },
     "metadata": {
      "needs_background": "light"
     },
     "output_type": "display_data"
    },
    {
     "data": {
      "image/png": "[encoded data removed]",
      "text/plain": "<Figure size 432x288 with 3 Axes>"
     },
     "metadata": {
      "needs_background": "light"
     },
     "output_type": "display_data"
    },
    {
     "data": {
      "image/png": "[encoded data removed]",
      "text/plain": "<Figure size 432x288 with 3 Axes>"
     },
     "metadata": {
      "needs_background": "light"
     },
     "output_type": "display_data"
    },
    {
     "data": {
      "image/png": "[encoded data removed]",
      "text/plain": "<Figure size 432x288 with 3 Axes>"
     },
     "metadata": {
      "needs_background": "light"
     },
     "output_type": "display_data"
    },
    {
     "data": {
      "image/png": "[encoded data removed]",
      "text/plain": "<Figure size 432x288 with 3 Axes>"
     },
     "metadata": {
      "needs_background": "light"
     },
     "output_type": "display_data"
    },
    {
     "data": {
      "image/png": "[encoded data removed]",
      "text/plain": "<Figure size 432x288 with 3 Axes>"
     },
     "metadata": {
      "needs_background": "light"
     },
     "output_type": "display_data"
    },
    {
     "data": {
      "image/png": "[encoded data removed]",
      "text/plain": "<Figure size 432x288 with 3 Axes>"
     },
     "metadata": {
      "needs_background": "light"
     },
     "output_type": "display_data"
    },
    {
     "data": {
      "image/png": "[encoded data removed]",
      "text/plain": "<Figure size 432x288 with 3 Axes>"
     },
     "metadata": {
      "needs_background": "light"
     },
     "output_type": "display_data"
    },
    {
     "data": {
      "image/png": "[encoded data removed]",
      "text/plain": "<Figure size 432x288 with 3 Axes>"
     },
     "metadata": {
      "needs_background": "light"
     },
     "output_type": "display_data"
    },
    {
     "data": {
      "image/png": "[encoded data removed]",
      "text/plain": "<Figure size 432x288 with 3 Axes>"
     },
     "metadata": {
      "needs_background": "light"
     },
     "output_type": "display_data"
    }
   ],
   "source": "\n\ndef read_mask_mat(mat_fname, mask_sz):\n    \"\"\"\n    extract mask as a binary image array\n        :mat_fname: str\n        :mask_sz: tuple\n    \"\"\"\n    h = tf.io.read_file(mat_fname)\n    mat = tf.image.decode_jpeg(h, channels=3)\n    #mask = mat[\"mask\"]\n    #mask = mask.astype( np.float32 )\n    mask = mat\n    mask_rsz = tf.image.resize(mask, mask_sz)\n    #print(mask_rsz.shape)\n    m = mask_rsz[:,:,0] < 1\n    #m = m.astype(\"uint8\")\n    #m = m *255\n    mask_rsz = m\n    #mask_rsz[:,:,1] = m\n    mask_rsz = np.expand_dims(mask_rsz, axis=2)\n    return mask_rsz\n\n\ndef read_image_file(img_fname, crop, img_input_sz):\n    \"\"\"\n    read raw image, resize and output array\n    \"\"\"\n    #bgr = cv2.imread( img_fname )\n    h = tf.io.read_file(img_fname)\n    bgr = tf.image.decode_jpeg(h, channels=3)\n    rgb = bgr[:, :, ::-1]\n    if np.sum(crop) != 0: #image must be cropped\n        assert len(crop)==4, \"crop specs list must be of length 4\"\n        yi, yf, xi, xf = crop\n        rgb = rgb[yi:yf, xi:xf, :]\n    \n    rgb_rsz = tf.image.resize(rgb, (600, 800))\n    img_rsz = tf.image.resize(rgb_rsz, img_input_sz)\n    return img_rsz\n\n\nexamples_id = np.random.choice(range(dataset_sz), 10)\n\nmask_sz, img_input_sz = (224, 224), (224, 224) # The model takes images of that size\n\nfor idx in examples_id:\n    example = dataset[idx]\n    mask = read_mask_mat(example[\"mask\"], mask_sz)\n    img = read_image_file(example[\"img\"], example[\"crop\"], img_input_sz)\n    combo = mask * img\n    f, ax = plt.subplots(1, 3)\n    ax[0].imshow(img)\n    ax[1].imshow(mask[:,:,0], cmap=\"gray\")\n    ax[2].imshow(combo)\n    ax[0].axis(\"off\"), ax[1].axis(\"off\"), ax[2].axis(\"off\")\n    plt.tight_layout()\n    plt.show()"
  },
  {
   "cell_type": "code",
   "execution_count": null,
   "metadata": {},
   "outputs": [],
   "source": ""
  }
 ],
 "metadata": {
  "kernelspec": {
   "display_name": "Python 2",
   "language": "python",
   "name": "python2"
  },
  "language_info": {
   "codemirror_mode": {
    "name": "ipython",
    "version": 2
   },
   "file_extension": ".py",
   "mimetype": "text/x-python",
   "name": "python",
   "nbconvert_exporter": "python",
   "pygments_lexer": "ipython2",
   "version": "2.7.17"
  }
 },
 "nbformat": 4,
 "nbformat_minor": 4
}
